{
 "cells": [
  {
   "cell_type": "markdown",
   "id": "be6a772a-c46d-43a8-8b88-35b22cfefa28",
   "metadata": {},
   "source": [
    "<span style=color:red;font-size:60px>ASSIGNMENT</span>"
   ]
  },
  {
   "cell_type": "markdown",
   "id": "e09ea159-7d20-443f-9d8c-f78d30b57991",
   "metadata": {},
   "source": [
    "<span style=color:blue;font-size:50px>NUMPY BASIC</span>"
   ]
  },
  {
   "cell_type": "markdown",
   "id": "3e0332bc-fb4f-4f20-8323-9b01d4b849c8",
   "metadata": {},
   "source": [
    "<span style=color:green>Q1. Is there any difference in the data type of variables list_ and array_list? If there is then write a code\n",
    "to print the data types of both the variables.</span>"
   ]
  },
  {
   "cell_type": "code",
   "execution_count": 4,
   "id": "8f6a7a56-5fa1-4269-8ced-5dc812f176d4",
   "metadata": {},
   "outputs": [
    {
     "name": "stdout",
     "output_type": "stream",
     "text": [
      "Data type of list_: <class 'list'>\n",
      "Data type of array_list: <class 'numpy.ndarray'>\n"
     ]
    }
   ],
   "source": [
    "import numpy as np\n",
    "\n",
    "# Given list\n",
    "list_ = ['1', '2', '3', '4', '5']\n",
    "\n",
    "# Create a NumPy array from the list\n",
    "array_list = np.array(object=list_)\n",
    "print(f\"Data type of list_: {type(list_)}\")\n",
    "print(f\"Data type of array_list: {type(array_list)}\")\n"
   ]
  },
  {
   "cell_type": "markdown",
   "id": "ade27994-5c1c-4c38-9b21-e10597c070d7",
   "metadata": {},
   "source": [
    "<span style=color:green>Q2. Write a code to print the data type of each and every element of both the variables list_ and\n",
    "arra_list.</span>"
   ]
  },
  {
   "cell_type": "markdown",
   "id": "4ec03961-8fc5-47bf-a48c-de7a58d3be23",
   "metadata": {},
   "source": [
    "Ans-"
   ]
  },
  {
   "cell_type": "code",
   "execution_count": 5,
   "id": "a14b046e-c5f5-4cf9-beb8-ded9540ec3b0",
   "metadata": {},
   "outputs": [
    {
     "name": "stdout",
     "output_type": "stream",
     "text": [
      "Data type of each element in list:\n",
      "1: <class 'str'>\n",
      "2: <class 'str'>\n",
      "3: <class 'str'>\n",
      "4: <class 'str'>\n",
      "5: <class 'str'>\n",
      "\n",
      "Data type of each element in array_list:\n",
      "1: <class 'numpy.str_'>\n",
      "2: <class 'numpy.str_'>\n",
      "3: <class 'numpy.str_'>\n",
      "4: <class 'numpy.str_'>\n",
      "5: <class 'numpy.str_'>\n"
     ]
    }
   ],
   "source": [
    "import numpy as np\n",
    "\n",
    "\n",
    "list_ = ['1', '2', '3', '4', '5']\n",
    "\n",
    "# Create a NumPy array from the list\n",
    "array_list = np.array(object=list_)\n",
    "\n",
    "# Print data type of each element in the list\n",
    "print(\"Data type of each element in list:\")\n",
    "for element in list_:\n",
    "    print(f\"{element}: {type(element)}\")\n",
    "\n",
    "# Print data type of each element in the NumPy array\n",
    "print(\"\\nData type of each element in array_list:\")\n",
    "for element in array_list:\n",
    "    print(f\"{element}: {type(element)}\")\n"
   ]
  },
  {
   "cell_type": "markdown",
   "id": "2fae0ec8-6cb1-45aa-b8d7-8313d178beee",
   "metadata": {},
   "source": [
    "<span style=color:green>Q3. Considering the following changes in the variable, array_list:\n",
    "array_list = np.array(object = list_, dtype = int)</span>"
   ]
  },
  {
   "cell_type": "markdown",
   "id": "7cca5df0-3068-49a0-8f7c-8fe423f2bfbb",
   "metadata": {},
   "source": [
    "Will there be any difference in the data type of the elements present in both the variables, list_ and\n",
    "arra_list? If so then print the data types of each and every element present in both the variables, list_\n",
    "and arra_list.\n",
    "Consider the below code to answer further questions:\n",
    "import numpy as np\n",
    "num_list = [ [ 1 , 2 , 3 ] , [ 4 , 5 , 6 ] ]\n",
    "num_array = np.array(object = num_list)"
   ]
  },
  {
   "cell_type": "markdown",
   "id": "6b7c84a8-06cb-4446-bc14-b9e9fb58cc87",
   "metadata": {},
   "source": [
    "Ans-"
   ]
  },
  {
   "cell_type": "code",
   "execution_count": 4,
   "id": "99af672b-04c6-4238-b4af-98dae8597c0c",
   "metadata": {},
   "outputs": [
    {
     "name": "stdout",
     "output_type": "stream",
     "text": [
      "datatype of each element in list:\n",
      "1:<class 'str'>\n",
      "2:<class 'str'>\n",
      "3:<class 'str'>\n",
      "4:<class 'str'>\n",
      "5:<class 'str'>\n",
      "/nDatatype of each element in modified array list:\n",
      "1:<class 'numpy.int64'>\n",
      "2:<class 'numpy.int64'>\n",
      "3:<class 'numpy.int64'>\n",
      "4:<class 'numpy.int64'>\n",
      "5:<class 'numpy.int64'>\n"
     ]
    }
   ],
   "source": [
    "import numpy as np\n",
    "list_=['1','2','3','4','5']\n",
    "\n",
    "arr_list=np.array(object=list_, dtype=int)\n",
    "\n",
    "print(\"datatype of each element in list:\")\n",
    "for element in list_:\n",
    "    print(f\"{element}:{type(element)}\")\n",
    "    \n",
    "# print the data type of each element in the modified numpy array\n",
    "print(\"/nDatatype of each element in modified array list:\")\n",
    "for element in arr_list:\n",
    "    print(f\"{element}:{type(element)}\")"
   ]
  },
  {
   "cell_type": "code",
   "execution_count": 7,
   "id": "ecb4fb5d-7ed8-4329-858f-54f2b68b9f9f",
   "metadata": {},
   "outputs": [
    {
     "name": "stdout",
     "output_type": "stream",
     "text": [
      "\\datatype of each element in array:\n",
      "1:<class 'numpy.int64'>\n",
      "2:<class 'numpy.int64'>\n",
      "3:<class 'numpy.int64'>\n",
      "4:<class 'numpy.int64'>\n",
      "5:<class 'numpy.int64'>\n",
      "6:<class 'numpy.int64'>\n"
     ]
    }
   ],
   "source": [
    "import numpy as np\n",
    "num_list=[[1,2,3],[4,5,6]]\n",
    "num_array=np.array(object=num_list)\n",
    "\n",
    "print(\"\\datatype of each element in array:\")\n",
    "for row in num_array:\n",
    "    for element in row:\n",
    "        \n",
    "        print(f\"{element}:{type(element)}\")"
   ]
  },
  {
   "cell_type": "markdown",
   "id": "4d310194-c22e-416a-b9af-9c27bd2138c4",
   "metadata": {},
   "source": [
    "<span style=color:green>Q4. Write a code to find the following characteristics of variable, num_array:\n",
    "(i) shape\n",
    "(ii) size</span>"
   ]
  },
  {
   "cell_type": "code",
   "execution_count": 20,
   "id": "f5058b77-7149-4710-bece-71fcac404a17",
   "metadata": {},
   "outputs": [
    {
     "name": "stdout",
     "output_type": "stream",
     "text": [
      "shape of array:(2, 3)\n",
      "size of array:6\n"
     ]
    }
   ],
   "source": [
    "import numpy as np\n",
    "shape=np.shape(num_array)\n",
    "size=np.size(num_array)\n",
    "\n",
    "print(f\"shape of array:{shape}\")\n",
    "print(f\"size of array:{size}\")"
   ]
  },
  {
   "cell_type": "markdown",
   "id": "6d099938-d9c6-4da4-be2e-e9d3ae4e6d2e",
   "metadata": {},
   "source": [
    "<span style=color:green>Q5. Write a code to create numpy array of 3*3 matrix containing zeros only, using a numpy array\n",
    "creation function.\n",
    "[Hint: The size of the array will be 9 and the shape will be (3,3).]</span>"
   ]
  },
  {
   "cell_type": "markdown",
   "id": "46047390-7d4a-407f-97d2-92825e5d7d6e",
   "metadata": {},
   "source": [
    "Ans-"
   ]
  },
  {
   "cell_type": "code",
   "execution_count": 22,
   "id": "9882bc65-f0da-4f94-8dc8-3db3b6105539",
   "metadata": {},
   "outputs": [
    {
     "name": "stdout",
     "output_type": "stream",
     "text": [
      "3*3 matrix zeros:[[0. 0. 0.]\n",
      " [0. 0. 0.]\n",
      " [0. 0. 0.]]\n"
     ]
    }
   ],
   "source": [
    "import numpy as np\n",
    "zeros=np.zeros((3,3))\n",
    "\n",
    "# print the result\n",
    "print(f\"3*3 matrix zeros:{zeros}\")"
   ]
  },
  {
   "cell_type": "markdown",
   "id": "32146733-4bc0-40ec-ad16-c4a070205738",
   "metadata": {},
   "source": [
    "<span style=color:green>Q6. Create an identity matrix of shape (5,5) using numpy functions?\n",
    "[Hint: An identity matrix is a matrix containing 1 diagonally and other elements will be 0.]</span>"
   ]
  },
  {
   "cell_type": "markdown",
   "id": "254291aa-d743-422f-a9e2-25e0a743d3ad",
   "metadata": {},
   "source": [
    "Ans-"
   ]
  },
  {
   "cell_type": "code",
   "execution_count": 25,
   "id": "1ef8d967-df34-4c3a-9be1-2d25cef9b3ca",
   "metadata": {},
   "outputs": [
    {
     "name": "stdout",
     "output_type": "stream",
     "text": [
      "5*5 identity matrix:[[1. 0. 0. 0. 0.]\n",
      " [0. 1. 0. 0. 0.]\n",
      " [0. 0. 1. 0. 0.]\n",
      " [0. 0. 0. 1. 0.]\n",
      " [0. 0. 0. 0. 1.]]\n"
     ]
    }
   ],
   "source": [
    "import numpy as np\n",
    "ide_mat=np.eye(5)\n",
    "\n",
    "print(f\"5*5 identity matrix:{ide_mat}\")"
   ]
  },
  {
   "cell_type": "code",
   "execution_count": null,
   "id": "7d8334a4-a336-44e9-a4d1-79afde033f94",
   "metadata": {},
   "outputs": [],
   "source": []
  }
 ],
 "metadata": {
  "kernelspec": {
   "display_name": "Python 3 (ipykernel)",
   "language": "python",
   "name": "python3"
  },
  "language_info": {
   "codemirror_mode": {
    "name": "ipython",
    "version": 3
   },
   "file_extension": ".py",
   "mimetype": "text/x-python",
   "name": "python",
   "nbconvert_exporter": "python",
   "pygments_lexer": "ipython3",
   "version": "3.10.8"
  }
 },
 "nbformat": 4,
 "nbformat_minor": 5
}
